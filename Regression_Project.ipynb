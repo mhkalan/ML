#%%

import numpy as np
import pandas as pd
import matplotlib.pyplot as plt
from sklearn import linear_model
import seaborn as sns


#%%

df = pd.read_csv('housePrice.csv')
df

#%%

df.drop('Address', axis=1, inplace=True)
df

#%%

df[["Parking", 'Warehouse', 'Elevator']] = df[["Parking",
                                               'Warehouse',
                                               'Elevator']].astype(int)
df

#%%
#%%
df.Area = pd.to_numeric(df.Area, errors='coerce').fillna(0).astype(np.int64)
df.head()
#%%
cdf = df[['Area', 'Room', 'Parking', 'Warehouse', 'Elevator', 'Price']]
cdf.head()
#%%
plt.scatter(cdf.Area, cdf.Price, color='red')
plt.xlabel('Area')
plt.ylabel('Price')
plt.show()
#%%
msk = np.random.rand(len(df)) < 0.8
train = cdf[msk]
test = cdf[~msk]
#%%
reg = linear_model.LinearRegression()
x = np.asanyarray(train[['Area', 'Room', 'Parking', 'Warehouse', 'Elevator']])
y = np.asanyarray(train[['Price']])
reg.fit(x, y)
print('Coefficient:', reg.coef_, '\n', 'Intercept:', reg.intercept_)

#%%
y_hat = reg.predict(test[['Area', 'Room', 'Parking', 'Warehouse', 'Elevator']])
x = np.asanyarray(test[['Area', 'Room', 'Parking', 'Warehouse', 'Elevator']])
y = np.asanyarray(test[['Price']])
print('Score:%.2f' % reg.score(x, y))
