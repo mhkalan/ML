#%%
import numpy as np
import pandas as pd
#%%
item_df = pd.read_csv('items.csv')
item_df = item_df.drop(['url', 'image', 'rating', 'reviewUrl',
                        'totalReviews', 'price', 'originalPrice'], 1)
item_df = item_df.dropna()
#%%
reviews_df = pd.read_csv('reviews.csv')
reviews_df = reviews_df.drop(['date', 'verified', 'title',
                              'body', 'helpfulVotes'], 1)
reviews_df.head()


#%%
userInput = [
    {'title':'Samsung R355C Net 10 Unlimited','rating':4},
    {'title':'Samsung Freeform III Prepaid Phone (MetroPCS)','rating':4.5},
    {'title':'Samsung Replenish Prepaid Android Phone (Boost Mobile)','rating':3},
    {'title':'Motorola Brute i686 Rugged PTT For Sprint','rating':2.5},
    {'title':'Samsung Galaxy S4, White Frost 16GB (Sprint)','rating':5}
]
inputCell = pd.DataFrame(userInput)
inputCell

#%%
inputTitle = item_df[item_df['title'].isin(inputCell['title'].tolist())]
inputCell = pd.merge(inputTitle, inputCell)
inputCell

#%%
userSubset = reviews_df[reviews_df['asin'].isin(inputCell['asin'].tolist())]
userSubset.head()

#%%
userGroup = userSubset.groupby(['name'])
#%%
userGroup = sorted(userGroup, key=lambda x : len(x[1]), reverse=True)
userGroup[0:3]

#%%
from math import sqrt

pearsonCorrelationDict = {}
for name, group in userGroup:
    group = group.sort_values(by='asin')
    inputCell = inputCell.sort_values(by='asin')
    nRatings = len(group)
    temp_df = inputCell[inputCell['asin'].isin(group['asin'].tolist())]
    tempRatingList = temp_df['rating'].tolist()
    tempGroupList = group['rating'].tolist()
    Sxx = sum([i**2 for i in tempRatingList]) - pow(sum(tempRatingList),2)/float(nRatings)
    Syy = sum([i**2 for i in tempGroupList]) - pow(sum(tempGroupList),2)/float(nRatings)
    Sxy = sum( i*j for i, j in zip(tempRatingList, tempGroupList)) - sum(tempRatingList)*sum(tempGroupList)/float(nRatings)

    if Sxx != 0 and Syy != 0:
        pearsonCorrelationDict[name] = Sxy/sqrt(Sxx*Syy)
    else:
        pearsonCorrelationDict[name] = 0

#%%
pearsonCorrelationDict


#%%
pearsonDF = pd.DataFrame.from_dict(pearsonCorrelationDict, orient='index')
pearsonDF.columns = ['similarityIndex']
pearsonDF['name'] = pearsonDF.index
pearsonDF.index = range(len(pearsonDF))
pearsonDF.head()

#%%
topUsers=pearsonDF.sort_values(by='similarityIndex', ascending=False)[0:50]
topUsers.head()


#%%
topUsersRating=topUsers.merge(reviews_df, left_on='name', right_on='name', how='inner')
topUsersRating.head()

#%%
topUsersRating['weightedRating'] = topUsersRating['similarityIndex']*topUsersRating['rating']
topUsersRating.head()

#%%
tempTopUsersRating = topUsersRating.groupby('asin').sum()[['similarityIndex','weightedRating']]
tempTopUsersRating.columns = ['sum_similarityIndex','sum_weightedRating']
tempTopUsersRating.head()

#%%
recommendation_df = pd.DataFrame()
recommendation_df['weighted average recommendation score'] = tempTopUsersRating['sum_weightedRating']/tempTopUsersRating['sum_similarityIndex']
recommendation_df['asin'] = tempTopUsersRating.index
recommendation_df.head()

#%%
recommendation_df = recommendation_df.sort_values(by='weighted average recommendation score', ascending=False)
recommendation_df.head(10)

#%%
item_df.loc[item_df['asin'].isin(recommendation_df.head(10)['asin'].tolist())]


#%%


