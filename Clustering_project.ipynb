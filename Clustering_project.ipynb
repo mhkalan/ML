## with hierarchy method
#%%
import numpy as np
import pandas as pd
from sklearn.cluster import AgglomerativeClustering
from sklearn import preprocessing
from scipy.cluster import hierarchy
from sklearn.metrics.pairwise import euclidean_distances

#%%
df = pd.read_csv('customers.csv')
label_encode = preprocessing.LabelEncoder()
df['Gender'] = label_encode.fit_transform(df['Gender'])
df.head()
#%%
feature = df[['CustomerID', 'Gender', 'Age', 'Annual Income (k$)',
              'Spending Score (1-100)']]
feature.values

#%%
x = feature.values
min_max = preprocessing.MinMaxScaler()
x_scale = min_max.fit_transform(x)
x_scale[:5]

#%%
distance = euclidean_distances(x_scale, x_scale)
distance

#%%
Z = hierarchy.linkage(distance, method='average')
Z
#%%
dendo = hierarchy.dendrogram(Z)

#%%
agglom = AgglomerativeClustering(n_clusters=4, linkage='average')
agglom.fit(distance)
agglom.labels_

#%%
df['Labels'] = agglom.labels_
df.head()

#%%
df.groupby(['Labels' ,'Gender'])['Labels'].count()
#%%


#%%


