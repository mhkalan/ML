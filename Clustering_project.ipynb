## with hierarchy method
#%%
import numpy as np
import pandas as pd
from sklearn.cluster import AgglomerativeClustering
from sklearn import preprocessing
from scipy.cluster import hierarchy
from sklearn.metrics.pairwise import euclidean_distances

#%%
df = pd.read_csv('customers.csv')
label_encode = preprocessing.LabelEncoder()
df['Gender'] = label_encode.fit_transform(df['Gender'])
df.head()
#%%
feature = df[['CustomerID', 'Gender', 'Age', 'Annual Income (k$)',
              'Spending Score (1-100)']]
feature.values

#%%
x = feature.values
min_max = preprocessing.MinMaxScaler()
x_scale = min_max.fit_transform(x)
x_scale[:5]

#%%
distance = euclidean_distances(x_scale, x_scale)
distance

#%%
Z = hierarchy.linkage(distance, method='average')
Z
#%%
dendo = hierarchy.dendrogram(Z)

#%%
agglom = AgglomerativeClustering(n_clusters=4, linkage='average')
agglom.fit(distance)
agglom.labels_

#%%
df['Labels'] = agglom.labels_
df.head()

#%%
df.groupby(['Labels' ,'Gender'])['Labels'].count()
#%%


#%%
## with DBSCAN method
#%%
import numpy as np
import pandas as pd
from sklearn import preprocessing
from sklearn.cluster import DBSCAN

#%%
df = pd.read_csv('customers.csv')
label_encode = preprocessing.LabelEncoder()
df['Gender'] = label_encode.fit_transform(df['Gender'])
df.head()
#%%
feature = df[['CustomerID', 'Gender', 'Age', 'Annual Income (k$)',
              'Spending Score (1-100)']]
feature.values

#%%
x = feature.values
min_max = preprocessing.MinMaxScaler()
x_scale = min_max.fit_transform(x)
x_scale[:5]

#%%
epsilon = 0.4
minimum_sample = 8
db = DBSCAN(eps=epsilon, min_samples=minimum_sample).fit(x_scale)
labels = db.labels_
labels
#%%
core_samples_mask = np.zeros_like(db.labels_, dtype=bool)
core_samples_mask[db.core_sample_indices_] = True
core_samples_mask
#%%

#%%
n_clusters_ = len(set(labels)) - (1 if -1 in labels else 0)
n_clusters_

#%%
unique_labels = set(labels)
unique_labels

#%%
df['Labels'] = labels
df.groupby(['Labels', 'Gender'])['Labels'].count()
#%%


#%%




