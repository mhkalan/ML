##K_nearest_neighbours method
#%%
import numpy as np
import pandas as pd
from sklearn import preprocessing
import matplotlib.pyplot as plt

#%%
df = pd.read_csv('heart.csv')
df.head()

#%%
df.dtypes

#%%
X = df[['age', 'sex', 'cp', 'trtbps', 'chol', 'fbs', 'restecg',
        'thalachh', 'exng', 'oldpeak', 'slp', 'caa', 'thall'
        ]].values
X[:5]

#%%
Y = df[['output']].values
Y[:5]

#%%
scale = preprocessing.StandardScaler().fit(X)
X = scale.transform(X.astype(float))
X[:5]

#%%
from sklearn.model_selection import train_test_split
train_x, test_x, train_y, test_y = train_test_split(X, Y,
                                                    test_size=0.2,
                                                    random_state=4
                                                    )
print(train_x.shape, train_y.shape)
print(test_x.shape, test_y.shape)

#%%
from sklearn.neighbors import KNeighborsClassifier
knn = KNeighborsClassifier(n_neighbors=7).fit(train_x, train_y)
knn


#%%
y_hat = knn.predict(test_x)
print(y_hat[:5])
print(test_y[:5])

#%%
from sklearn.metrics import f1_score
score = f1_score(test_y, y_hat)
score


#%%
k = 10
f1_scores = np.zeros(k - 1)
for n in range(1, k):
    neigh = KNeighborsClassifier(n_neighbors=n).fit(train_x, train_y)
    yhat = neigh.predict(test_x)
    f1_scores[n - 1] = f1_score(test_y, yhat)
f1_scores
## best predict for n_neighbors = 7
##DecisionTree method
#%%
import numpy as np
import pandas as pd
from sklearn import preprocessing
import matplotlib.pyplot as plt

#%%
df = pd.read_csv('heart.csv')
df.head()

#%%
df.dtypes

#%%
X = df[['age', 'sex', 'cp', 'trtbps', 'chol', 'fbs', 'restecg',
        'thalachh', 'exng', 'oldpeak', 'slp', 'caa', 'thall'
        ]].values
X[:5]

#%%
Y = df[['output']].values
Y[:5]

#%%
from sklearn.model_selection import train_test_split
train_x, test_x, train_y, test_y = train_test_split(X, Y,
                                                    test_size=0.2,
                                                    random_state=4
                                                    )

#%%
from sklearn.tree import DecisionTreeClassifier

DCT = DecisionTreeClassifier(criterion='entropy', max_depth=4)
DCT

#%%
DCT.fit(train_x, train_y)

#%%
pred = DCT.predict(test_x)
print(pred[:5])
print(test_y[:5])
#%%
from sklearn.metrics import f1_score
score = f1_score(test_y, pred, average='weighted')
score

#%%

#%%
nx = [[75., 1., 2., 85., 251., 1., 0., 185., 1., 2.6, 0., 1., 2.]]
DCT.predict(nx)
